{
  "nbformat": 4,
  "nbformat_minor": 0,
  "metadata": {
    "colab": {
      "name": "rock_n_roll_demo.ipynb",
      "provenance": [],
      "collapsed_sections": []
    },
    "kernelspec": {
      "name": "python3",
      "display_name": "Python 3"
    },
    "language_info": {
      "name": "python"
    }
  },
  "cells": [
    {
      "cell_type": "code",
      "execution_count": null,
      "metadata": {
        "colab": {
          "base_uri": "https://localhost:8080/"
        },
        "id": "cYY9gMxzOCaz",
        "outputId": "2c3b602f-672d-40d3-fda0-0810e8187b87"
      },
      "outputs": [
        {
          "output_type": "stream",
          "name": "stdout",
          "text": [
            "Cloning into 'rock_band_timelines'...\n",
            "remote: Enumerating objects: 14, done.\u001b[K\n",
            "remote: Counting objects: 100% (14/14), done.\u001b[K\n",
            "remote: Compressing objects: 100% (10/10), done.\u001b[K\n",
            "remote: Total 14 (delta 0), reused 0 (delta 0), pack-reused 0\u001b[K\n",
            "Unpacking objects: 100% (14/14), done.\n"
          ]
        }
      ],
      "source": [
        "! git clone https://github.com/virchan/rock_band_timelines"
      ]
    },
    {
      "cell_type": "code",
      "source": [
        "import pandas as pd\n",
        "import numpy as np\n",
        "import plotly.express as px\n",
        "from plotly.subplots import make_subplots\n",
        "import plotly.graph_objects as go"
      ],
      "metadata": {
        "id": "yT7476IsORXY"
      },
      "execution_count": null,
      "outputs": []
    },
    {
      "cell_type": "code",
      "source": [
        "# Load the dataframe\n",
        "timeline_dataframe = pd.read_csv(\"/content/rock_band_timelines/dataset/timeline.csv\")\n",
        "\n",
        "# Cast the columns as the correct data type\n",
        "timeline_dataframe[\"type_id\"] = timeline_dataframe[\"type_id\"].astype(int)\n",
        "\n",
        "num_of_band = len(timeline_dataframe[\"band_id\"].unique())\n",
        "\n",
        "# Plotting the Timeline via Plotly\n",
        "fig = px.line(timeline_dataframe, x=\"date\", y=\"band_id\", color=\"band_id\", title=\"Rock Band Timelines\", hover_data=[\"description\"])\n",
        "\n",
        "fig.update_traces(mode=\"markers+lines\",\n",
        "                  marker=dict(size=10),\n",
        "                  xhoverformat=\"%x\")\n",
        "\n",
        "fig.update_layout(height = num_of_band * 150,\n",
        "                   hovermode=\"x unified\",\n",
        "                  legend_title=\"\")\n",
        "\n",
        "fig.update_yaxes(title=None)\n",
        "\n",
        "fig.show()"
      ],
      "metadata": {
        "colab": {
          "base_uri": "https://localhost:8080/",
          "height": 767
        },
        "id": "xQVmBIpcOUpR",
        "outputId": "a5fe74eb-fa8e-4c43-8497-7e7cb9be800a"
      },
      "execution_count": null,
      "outputs": [
        {
          "output_type": "display_data",
          "data": {
            "text/html": [
              "<html>\n",
              "<head><meta charset=\"utf-8\" /></head>\n",
              "<body>\n",
              "    <div>            <script src=\"https://cdnjs.cloudflare.com/ajax/libs/mathjax/2.7.5/MathJax.js?config=TeX-AMS-MML_SVG\"></script><script type=\"text/javascript\">if (window.MathJax) {MathJax.Hub.Config({SVG: {font: \"STIX-Web\"}});}</script>                <script type=\"text/javascript\">window.PlotlyConfig = {MathJaxConfig: 'local'};</script>\n",
              "        <script src=\"https://cdn.plot.ly/plotly-2.8.3.min.js\"></script>                <div id=\"0834e9d4-1b8f-477c-82e0-38661c6662fd\" class=\"plotly-graph-div\" style=\"height:750px; width:100%;\"></div>            <script type=\"text/javascript\">                                    window.PLOTLYENV=window.PLOTLYENV || {};                                    if (document.getElementById(\"0834e9d4-1b8f-477c-82e0-38661c6662fd\")) {                    Plotly.newPlot(                        \"0834e9d4-1b8f-477c-82e0-38661c6662fd\",                        [{\"customdata\":[[\"Led Zeppelin\"],[\"Led Zeppelin II\"],[\"Led Zeppelin III\"],[\"Led Zeppelin IV\"],[\"Houses of the Holy\"],[\"Physical Graffiti\"],[\"Presence\"],[\"The Song Remains the Same\"],[\"In Through the Out Door\"],[\"John Bonham\"],[\"dissolution\"],[\"Coda\"],[\"Live Aid\"],[\"Atlantic Records 40th Anniversary\"],[\"Rock and Roll Hall of Fame\"],[\"BBC Sessions\"],[\"How the West Was Won\"],[\"UK Music Hall of Fame\"],[\"Mothership\"],[\"Ahmet Ertegun Tribute Concert\"],[\"Kennedy Center Honors\"]],\"hovertemplate\":\"band_id=%{y}<br>date=%{x}<br>description=%{customdata[0]}<extra></extra>\",\"legendgroup\":\"Led Zeppelin\",\"line\":{\"color\":\"#636efa\",\"dash\":\"solid\"},\"marker\":{\"symbol\":\"circle\",\"size\":10},\"mode\":\"markers+lines\",\"name\":\"Led Zeppelin\",\"orientation\":\"v\",\"showlegend\":true,\"x\":[\"1969-01-12\",\"1969-10-22\",\"1970-10-05\",\"1971-11-08\",\"1973-03-28\",\"1975-02-24\",\"1976-03-31\",\"1976-09-28\",\"1979-08-15\",\"1980-09-25\",\"1980-12-04\",\"1982-11-19\",\"1985-07-13\",\"1988-05-14\",\"1995-01-12\",\"1997-11-11\",\"2003-05-27\",\"2006-11-14\",\"2007-11-12\",\"2007-12-10\",\"2012-12-02\"],\"xaxis\":\"x\",\"y\":[\"Led Zeppelin\",\"Led Zeppelin\",\"Led Zeppelin\",\"Led Zeppelin\",\"Led Zeppelin\",\"Led Zeppelin\",\"Led Zeppelin\",\"Led Zeppelin\",\"Led Zeppelin\",\"Led Zeppelin\",\"Led Zeppelin\",\"Led Zeppelin\",\"Led Zeppelin\",\"Led Zeppelin\",\"Led Zeppelin\",\"Led Zeppelin\",\"Led Zeppelin\",\"Led Zeppelin\",\"Led Zeppelin\",\"Led Zeppelin\",\"Led Zeppelin\"],\"yaxis\":\"y\",\"type\":\"scatter\",\"xhoverformat\":\"%x\"},{\"customdata\":[[\"High Voltage\"],[\"T.N.T\"],[\"High Voltage\"],[\"Dirty Deeds Done Dirt Cheap\"],[\"Let There Be Rock\"],[\"Mark Evans\"],[\"Cliff Williams\"],[\"Powerage\"],[\"If You Want Blood You've Got It\"],[\"Highway to Hell\"],[\"Bon Scott\"],[\"Brian Johnson\"],[\"Back in Black\"],[\"For Those About to Rock (We Salute You)\"],[\"Phil Rudd\"],[\"Simon Wright\"],[\"Flick of the Switch\"],[\"Fly on the Wall\"],[\"Who Made Who\"],[\"Blow Up Your Video\"],[\"Simon Wright\"],[\"Chris Slade\"],[\"The Razaors Edge\"],[\"AC/DC Live\"],[\"Chris Slade\"],[\"Phil Rudd\"],[\"Ballbreaker\"],[\"Bonfire\"],[\"Stiff Upper Lip\"],[\"Rock and Roll Hall of Fame\"],[\"Black Ice\"],[\"Backtracks\"],[\"Iron Man 2\"],[\"Live At River Plate\"],[\"Stevie Young\"],[\"Malcolm Young\"],[\"Rock or Bust\"],[\"Malcolm Young\"],[\"Power Up\"]],\"hovertemplate\":\"band_id=%{y}<br>date=%{x}<br>description=%{customdata[0]}<extra></extra>\",\"legendgroup\":\"AC/DC\",\"line\":{\"color\":\"#EF553B\",\"dash\":\"solid\"},\"marker\":{\"symbol\":\"circle\",\"size\":10},\"mode\":\"markers+lines\",\"name\":\"AC/DC\",\"orientation\":\"v\",\"showlegend\":true,\"x\":[\"1975-02-17\",\"1975-12-01\",\"1976-04-30\",\"1976-09-20\",\"1977-03-21\",\"1977-05-01\",\"1977-05-27\",\"1978-05-25\",\"1978-10-13\",\"1979-07-27\",\"1980-02-19\",\"1980-03-01\",\"1980-07-25\",\"1981-11-20\",\"1983-05-01\",\"1983-05-31\",\"1983-08-15\",\"1985-06-28\",\"1986-05-24\",\"1988-01-18\",\"1989-11-01\",\"1989-11-31\",\"1990-09-21\",\"1992-10-27\",\"1994-08-01\",\"1994-08-31\",\"1995-09-26\",\"1997-11-18\",\"2000-02-25\",\"2003-03-10\",\"2008-10-17\",\"2009-11-10\",\"2010-04-19\",\"2012-11-19\",\"2014-05-01\",\"2014-09-24\",\"2014-11-28\",\"2017-11-18\",\"2020-11-13\"],\"xaxis\":\"x\",\"y\":[\"AC/DC\",\"AC/DC\",\"AC/DC\",\"AC/DC\",\"AC/DC\",\"AC/DC\",\"AC/DC\",\"AC/DC\",\"AC/DC\",\"AC/DC\",\"AC/DC\",\"AC/DC\",\"AC/DC\",\"AC/DC\",\"AC/DC\",\"AC/DC\",\"AC/DC\",\"AC/DC\",\"AC/DC\",\"AC/DC\",\"AC/DC\",\"AC/DC\",\"AC/DC\",\"AC/DC\",\"AC/DC\",\"AC/DC\",\"AC/DC\",\"AC/DC\",\"AC/DC\",\"AC/DC\",\"AC/DC\",\"AC/DC\",\"AC/DC\",\"AC/DC\",\"AC/DC\",\"AC/DC\",\"AC/DC\",\"AC/DC\",\"AC/DC\"],\"yaxis\":\"y\",\"type\":\"scatter\",\"xhoverformat\":\"%x\"},{\"customdata\":[[\"Fresh Cream\"],[\"Disraeli Gears\"],[\"Wheels of Fire\"],[\"dissolution\"],[\"Goodybye\"],[\"Rock and Roll Hall of Fame\"],[\"Royal Albert Hall in London\"],[\"Jack Bruce\"],[\"Ginger Baker\"]],\"hovertemplate\":\"band_id=%{y}<br>date=%{x}<br>description=%{customdata[0]}<extra></extra>\",\"legendgroup\":\"Cream\",\"line\":{\"color\":\"#00cc96\",\"dash\":\"solid\"},\"marker\":{\"symbol\":\"circle\",\"size\":10},\"mode\":\"markers+lines\",\"name\":\"Cream\",\"orientation\":\"v\",\"showlegend\":true,\"x\":[\"1966-12-09\",\"1967-11-02\",\"1968-06-14\",\"1968-11-01\",\"1969-02-05\",\"1993-01-12\",\"2005-05-02\",\"2014-10-25\",\"2019-10-06\"],\"xaxis\":\"x\",\"y\":[\"Cream\",\"Cream\",\"Cream\",\"Cream\",\"Cream\",\"Cream\",\"Cream\",\"Cream\",\"Cream\"],\"yaxis\":\"y\",\"type\":\"scatter\",\"xhoverformat\":\"%x\"},{\"customdata\":[[\"Please Please Me\"],[\"With the Beatles\"],[\"A Hard Day's Night\"],[\"Beatles for Sale\"],[\"Help!\"],[\"Rubber Soul\"],[\"Revolver\"],[\"A Collection of Beatles Oldies\"],[\"Sgt. Pepper's Longely Hearts Club Band\"],[\"The Beatles\"],[\"Yellow Submarine\"],[\"Abbey Road\"],[\"Let it Be\"],[\"The Beatles' Christmas Records\"],[\"1962-1966\"],[\"1967-1970\"],[\"dissolution\"],[\"The Singles Collection 1962-1970\"],[\"Rock 'n' Roll Music\"],[\"John Lennon\"],[\"Rock and Roll Hall of Fame\"],[\"Rock and Roll Hall of Fame (John Lennon)\"],[\"Rock and Roll Hall of Fame (Paul McCartney)\"],[\"George Harrison\"],[\"Rock and Roll Hall of Fame (George Harrison)\"],[\"Rock and Roll Hall of Fame (Ringo Starr)\"]],\"hovertemplate\":\"band_id=%{y}<br>date=%{x}<br>description=%{customdata[0]}<extra></extra>\",\"legendgroup\":\"The Beatles\",\"line\":{\"color\":\"#ab63fa\",\"dash\":\"solid\"},\"marker\":{\"symbol\":\"circle\",\"size\":10},\"mode\":\"markers+lines\",\"name\":\"The Beatles\",\"orientation\":\"v\",\"showlegend\":true,\"x\":[\"1963-03-22\",\"1963-11-22\",\"1964-07-10\",\"1964-12-04\",\"1965-08-06\",\"1965-12-03\",\"1966-08-05\",\"1966-12-10\",\"1967-05-26\",\"1968-11-22\",\"1969-01-13\",\"1969-09-26\",\"1970-05-08\",\"1970-12-18\",\"1973-04-02\",\"1973-04-02\",\"1974-12-29\",\"1976-03-05\",\"1976-06-07\",\"1980-12-08\",\"1988-01-21\",\"1994-01-19\",\"1999-03-17\",\"2001-11-29\",\"2004-03-15\",\"2015-04-18\"],\"xaxis\":\"x\",\"y\":[\"The Beatles\",\"The Beatles\",\"The Beatles\",\"The Beatles\",\"The Beatles\",\"The Beatles\",\"The Beatles\",\"The Beatles\",\"The Beatles\",\"The Beatles\",\"The Beatles\",\"The Beatles\",\"The Beatles\",\"The Beatles\",\"The Beatles\",\"The Beatles\",\"The Beatles\",\"The Beatles\",\"The Beatles\",\"The Beatles\",\"The Beatles\",\"The Beatles\",\"The Beatles\",\"The Beatles\",\"The Beatles\",\"The Beatles\"],\"yaxis\":\"y\",\"type\":\"scatter\",\"xhoverformat\":\"%x\"},{\"customdata\":[[\"Shades of Deep Purple\"],[\"The Book of Taliesyn\"],[\"Rod Evans and Nick Simper\"],[\"Ian Gillan and Roger Glover\"],[\"Deep Purple\"],[\"Concerto for Group and Orchestra\"],[\"Deep Purple in Rock\"],[\"Fireball\"],[\"Machine Head\"],[\"Made in Japan\"],[\"Who Do We Think We Are\"],[\"Ian Gillan and Roger Glover\"],[\"Glenn Hughes\"],[\"David Coverdale\"],[\"Burn\"],[\"Stormbringer\"],[\"Ritchie Blackmore\"],[\"Tommy Bolin\"],[\"Come Taste the Band\"],[\"David Coverdale\"],[\"disband\"],[\"Tommy Bolin\"],[\"Ian Gillan, Ritchie Blackmore, Roger Glover\"],[\"Perfect Strangers\"],[\"The House of Blue Light\"],[\"Ian Gillan\"],[\"Joe Lynn Turner\"],[\"Slaves and Masters\"],[\"Joe Lynn Turner\"],[\"Ian Gillan\"],[\"The Battle Rages On...\"],[\"Ritchie Blackmore\"],[\"Purpendicular\"],[\"Abandon\"],[\"Bananas\"],[\"Raptrue of the Deep\"],[\"Jon Lord\"],[\"Now What?!\"],[\"Rock and Roll Hall of Fame\"],[\"Infinite\"],[\"Whoosh!\"],[\"Turning to Crime\"]],\"hovertemplate\":\"band_id=%{y}<br>date=%{x}<br>description=%{customdata[0]}<extra></extra>\",\"legendgroup\":\"Deep Purple\",\"line\":{\"color\":\"#FFA15A\",\"dash\":\"solid\"},\"marker\":{\"symbol\":\"circle\",\"size\":10},\"mode\":\"markers+lines\",\"name\":\"Deep Purple\",\"orientation\":\"v\",\"showlegend\":true,\"x\":[\"1968-07-17\",\"1969-10-01\",\"1969-06-15\",\"1969-06-16\",\"1969-06-21\",\"1969-12-20\",\"1970-06-05\",\"1971-07-09\",\"1972-03-25\",\"1972-12-08\",\"1973-01-13\",\"1973-06-30\",\"1973-07-01\",\"1973-09-23\",\"1974-02-15\",\"1974-12-10\",\"1975-06-21\",\"1975-07-01\",\"1975-10-10\",\"1976-03-01\",\"1976-07-19\",\"1976-12-04\",\"1984-04-01\",\"1984-10-29\",\"1987-01-12\",\"1989-06-01\",\"1989-12-01\",\"1990-10-23\",\"1992-08-01\",\"1992-08-02\",\"1993-07-19\",\"1993-11-01\",\"1996-02-17\",\"1998-06-02\",\"2003-08-25\",\"2005-10-24\",\"2012-07-16\",\"2013-04-26\",\"2016-04-08\",\"2017-04-07\",\"2020-08-07\",\"2021-11-26\"],\"xaxis\":\"x\",\"y\":[\"Deep Purple\",\"Deep Purple\",\"Deep Purple\",\"Deep Purple\",\"Deep Purple\",\"Deep Purple\",\"Deep Purple\",\"Deep Purple\",\"Deep Purple\",\"Deep Purple\",\"Deep Purple\",\"Deep Purple\",\"Deep Purple\",\"Deep Purple\",\"Deep Purple\",\"Deep Purple\",\"Deep Purple\",\"Deep Purple\",\"Deep Purple\",\"Deep Purple\",\"Deep Purple\",\"Deep Purple\",\"Deep Purple\",\"Deep Purple\",\"Deep Purple\",\"Deep Purple\",\"Deep Purple\",\"Deep Purple\",\"Deep Purple\",\"Deep Purple\",\"Deep Purple\",\"Deep Purple\",\"Deep Purple\",\"Deep Purple\",\"Deep Purple\",\"Deep Purple\",\"Deep Purple\",\"Deep Purple\",\"Deep Purple\",\"Deep Purple\",\"Deep Purple\",\"Deep Purple\"],\"yaxis\":\"y\",\"type\":\"scatter\",\"xhoverformat\":\"%x\"}],                        {\"template\":{\"data\":{\"bar\":[{\"error_x\":{\"color\":\"#2a3f5f\"},\"error_y\":{\"color\":\"#2a3f5f\"},\"marker\":{\"line\":{\"color\":\"#E5ECF6\",\"width\":0.5},\"pattern\":{\"fillmode\":\"overlay\",\"size\":10,\"solidity\":0.2}},\"type\":\"bar\"}],\"barpolar\":[{\"marker\":{\"line\":{\"color\":\"#E5ECF6\",\"width\":0.5},\"pattern\":{\"fillmode\":\"overlay\",\"size\":10,\"solidity\":0.2}},\"type\":\"barpolar\"}],\"carpet\":[{\"aaxis\":{\"endlinecolor\":\"#2a3f5f\",\"gridcolor\":\"white\",\"linecolor\":\"white\",\"minorgridcolor\":\"white\",\"startlinecolor\":\"#2a3f5f\"},\"baxis\":{\"endlinecolor\":\"#2a3f5f\",\"gridcolor\":\"white\",\"linecolor\":\"white\",\"minorgridcolor\":\"white\",\"startlinecolor\":\"#2a3f5f\"},\"type\":\"carpet\"}],\"choropleth\":[{\"colorbar\":{\"outlinewidth\":0,\"ticks\":\"\"},\"type\":\"choropleth\"}],\"contour\":[{\"colorbar\":{\"outlinewidth\":0,\"ticks\":\"\"},\"colorscale\":[[0.0,\"#0d0887\"],[0.1111111111111111,\"#46039f\"],[0.2222222222222222,\"#7201a8\"],[0.3333333333333333,\"#9c179e\"],[0.4444444444444444,\"#bd3786\"],[0.5555555555555556,\"#d8576b\"],[0.6666666666666666,\"#ed7953\"],[0.7777777777777778,\"#fb9f3a\"],[0.8888888888888888,\"#fdca26\"],[1.0,\"#f0f921\"]],\"type\":\"contour\"}],\"contourcarpet\":[{\"colorbar\":{\"outlinewidth\":0,\"ticks\":\"\"},\"type\":\"contourcarpet\"}],\"heatmap\":[{\"colorbar\":{\"outlinewidth\":0,\"ticks\":\"\"},\"colorscale\":[[0.0,\"#0d0887\"],[0.1111111111111111,\"#46039f\"],[0.2222222222222222,\"#7201a8\"],[0.3333333333333333,\"#9c179e\"],[0.4444444444444444,\"#bd3786\"],[0.5555555555555556,\"#d8576b\"],[0.6666666666666666,\"#ed7953\"],[0.7777777777777778,\"#fb9f3a\"],[0.8888888888888888,\"#fdca26\"],[1.0,\"#f0f921\"]],\"type\":\"heatmap\"}],\"heatmapgl\":[{\"colorbar\":{\"outlinewidth\":0,\"ticks\":\"\"},\"colorscale\":[[0.0,\"#0d0887\"],[0.1111111111111111,\"#46039f\"],[0.2222222222222222,\"#7201a8\"],[0.3333333333333333,\"#9c179e\"],[0.4444444444444444,\"#bd3786\"],[0.5555555555555556,\"#d8576b\"],[0.6666666666666666,\"#ed7953\"],[0.7777777777777778,\"#fb9f3a\"],[0.8888888888888888,\"#fdca26\"],[1.0,\"#f0f921\"]],\"type\":\"heatmapgl\"}],\"histogram\":[{\"marker\":{\"pattern\":{\"fillmode\":\"overlay\",\"size\":10,\"solidity\":0.2}},\"type\":\"histogram\"}],\"histogram2d\":[{\"colorbar\":{\"outlinewidth\":0,\"ticks\":\"\"},\"colorscale\":[[0.0,\"#0d0887\"],[0.1111111111111111,\"#46039f\"],[0.2222222222222222,\"#7201a8\"],[0.3333333333333333,\"#9c179e\"],[0.4444444444444444,\"#bd3786\"],[0.5555555555555556,\"#d8576b\"],[0.6666666666666666,\"#ed7953\"],[0.7777777777777778,\"#fb9f3a\"],[0.8888888888888888,\"#fdca26\"],[1.0,\"#f0f921\"]],\"type\":\"histogram2d\"}],\"histogram2dcontour\":[{\"colorbar\":{\"outlinewidth\":0,\"ticks\":\"\"},\"colorscale\":[[0.0,\"#0d0887\"],[0.1111111111111111,\"#46039f\"],[0.2222222222222222,\"#7201a8\"],[0.3333333333333333,\"#9c179e\"],[0.4444444444444444,\"#bd3786\"],[0.5555555555555556,\"#d8576b\"],[0.6666666666666666,\"#ed7953\"],[0.7777777777777778,\"#fb9f3a\"],[0.8888888888888888,\"#fdca26\"],[1.0,\"#f0f921\"]],\"type\":\"histogram2dcontour\"}],\"mesh3d\":[{\"colorbar\":{\"outlinewidth\":0,\"ticks\":\"\"},\"type\":\"mesh3d\"}],\"parcoords\":[{\"line\":{\"colorbar\":{\"outlinewidth\":0,\"ticks\":\"\"}},\"type\":\"parcoords\"}],\"pie\":[{\"automargin\":true,\"type\":\"pie\"}],\"scatter\":[{\"marker\":{\"colorbar\":{\"outlinewidth\":0,\"ticks\":\"\"}},\"type\":\"scatter\"}],\"scatter3d\":[{\"line\":{\"colorbar\":{\"outlinewidth\":0,\"ticks\":\"\"}},\"marker\":{\"colorbar\":{\"outlinewidth\":0,\"ticks\":\"\"}},\"type\":\"scatter3d\"}],\"scattercarpet\":[{\"marker\":{\"colorbar\":{\"outlinewidth\":0,\"ticks\":\"\"}},\"type\":\"scattercarpet\"}],\"scattergeo\":[{\"marker\":{\"colorbar\":{\"outlinewidth\":0,\"ticks\":\"\"}},\"type\":\"scattergeo\"}],\"scattergl\":[{\"marker\":{\"colorbar\":{\"outlinewidth\":0,\"ticks\":\"\"}},\"type\":\"scattergl\"}],\"scattermapbox\":[{\"marker\":{\"colorbar\":{\"outlinewidth\":0,\"ticks\":\"\"}},\"type\":\"scattermapbox\"}],\"scatterpolar\":[{\"marker\":{\"colorbar\":{\"outlinewidth\":0,\"ticks\":\"\"}},\"type\":\"scatterpolar\"}],\"scatterpolargl\":[{\"marker\":{\"colorbar\":{\"outlinewidth\":0,\"ticks\":\"\"}},\"type\":\"scatterpolargl\"}],\"scatterternary\":[{\"marker\":{\"colorbar\":{\"outlinewidth\":0,\"ticks\":\"\"}},\"type\":\"scatterternary\"}],\"surface\":[{\"colorbar\":{\"outlinewidth\":0,\"ticks\":\"\"},\"colorscale\":[[0.0,\"#0d0887\"],[0.1111111111111111,\"#46039f\"],[0.2222222222222222,\"#7201a8\"],[0.3333333333333333,\"#9c179e\"],[0.4444444444444444,\"#bd3786\"],[0.5555555555555556,\"#d8576b\"],[0.6666666666666666,\"#ed7953\"],[0.7777777777777778,\"#fb9f3a\"],[0.8888888888888888,\"#fdca26\"],[1.0,\"#f0f921\"]],\"type\":\"surface\"}],\"table\":[{\"cells\":{\"fill\":{\"color\":\"#EBF0F8\"},\"line\":{\"color\":\"white\"}},\"header\":{\"fill\":{\"color\":\"#C8D4E3\"},\"line\":{\"color\":\"white\"}},\"type\":\"table\"}]},\"layout\":{\"annotationdefaults\":{\"arrowcolor\":\"#2a3f5f\",\"arrowhead\":0,\"arrowwidth\":1},\"autotypenumbers\":\"strict\",\"coloraxis\":{\"colorbar\":{\"outlinewidth\":0,\"ticks\":\"\"}},\"colorscale\":{\"diverging\":[[0,\"#8e0152\"],[0.1,\"#c51b7d\"],[0.2,\"#de77ae\"],[0.3,\"#f1b6da\"],[0.4,\"#fde0ef\"],[0.5,\"#f7f7f7\"],[0.6,\"#e6f5d0\"],[0.7,\"#b8e186\"],[0.8,\"#7fbc41\"],[0.9,\"#4d9221\"],[1,\"#276419\"]],\"sequential\":[[0.0,\"#0d0887\"],[0.1111111111111111,\"#46039f\"],[0.2222222222222222,\"#7201a8\"],[0.3333333333333333,\"#9c179e\"],[0.4444444444444444,\"#bd3786\"],[0.5555555555555556,\"#d8576b\"],[0.6666666666666666,\"#ed7953\"],[0.7777777777777778,\"#fb9f3a\"],[0.8888888888888888,\"#fdca26\"],[1.0,\"#f0f921\"]],\"sequentialminus\":[[0.0,\"#0d0887\"],[0.1111111111111111,\"#46039f\"],[0.2222222222222222,\"#7201a8\"],[0.3333333333333333,\"#9c179e\"],[0.4444444444444444,\"#bd3786\"],[0.5555555555555556,\"#d8576b\"],[0.6666666666666666,\"#ed7953\"],[0.7777777777777778,\"#fb9f3a\"],[0.8888888888888888,\"#fdca26\"],[1.0,\"#f0f921\"]]},\"colorway\":[\"#636efa\",\"#EF553B\",\"#00cc96\",\"#ab63fa\",\"#FFA15A\",\"#19d3f3\",\"#FF6692\",\"#B6E880\",\"#FF97FF\",\"#FECB52\"],\"font\":{\"color\":\"#2a3f5f\"},\"geo\":{\"bgcolor\":\"white\",\"lakecolor\":\"white\",\"landcolor\":\"#E5ECF6\",\"showlakes\":true,\"showland\":true,\"subunitcolor\":\"white\"},\"hoverlabel\":{\"align\":\"left\"},\"hovermode\":\"closest\",\"mapbox\":{\"style\":\"light\"},\"paper_bgcolor\":\"white\",\"plot_bgcolor\":\"#E5ECF6\",\"polar\":{\"angularaxis\":{\"gridcolor\":\"white\",\"linecolor\":\"white\",\"ticks\":\"\"},\"bgcolor\":\"#E5ECF6\",\"radialaxis\":{\"gridcolor\":\"white\",\"linecolor\":\"white\",\"ticks\":\"\"}},\"scene\":{\"xaxis\":{\"backgroundcolor\":\"#E5ECF6\",\"gridcolor\":\"white\",\"gridwidth\":2,\"linecolor\":\"white\",\"showbackground\":true,\"ticks\":\"\",\"zerolinecolor\":\"white\"},\"yaxis\":{\"backgroundcolor\":\"#E5ECF6\",\"gridcolor\":\"white\",\"gridwidth\":2,\"linecolor\":\"white\",\"showbackground\":true,\"ticks\":\"\",\"zerolinecolor\":\"white\"},\"zaxis\":{\"backgroundcolor\":\"#E5ECF6\",\"gridcolor\":\"white\",\"gridwidth\":2,\"linecolor\":\"white\",\"showbackground\":true,\"ticks\":\"\",\"zerolinecolor\":\"white\"}},\"shapedefaults\":{\"line\":{\"color\":\"#2a3f5f\"}},\"ternary\":{\"aaxis\":{\"gridcolor\":\"white\",\"linecolor\":\"white\",\"ticks\":\"\"},\"baxis\":{\"gridcolor\":\"white\",\"linecolor\":\"white\",\"ticks\":\"\"},\"bgcolor\":\"#E5ECF6\",\"caxis\":{\"gridcolor\":\"white\",\"linecolor\":\"white\",\"ticks\":\"\"}},\"title\":{\"x\":0.05},\"xaxis\":{\"automargin\":true,\"gridcolor\":\"white\",\"linecolor\":\"white\",\"ticks\":\"\",\"title\":{\"standoff\":15},\"zerolinecolor\":\"white\",\"zerolinewidth\":2},\"yaxis\":{\"automargin\":true,\"gridcolor\":\"white\",\"linecolor\":\"white\",\"ticks\":\"\",\"title\":{\"standoff\":15},\"zerolinecolor\":\"white\",\"zerolinewidth\":2}}},\"xaxis\":{\"anchor\":\"y\",\"domain\":[0.0,1.0],\"title\":{\"text\":\"date\"}},\"yaxis\":{\"anchor\":\"x\",\"domain\":[0.0,1.0],\"title\":{},\"categoryorder\":\"array\",\"categoryarray\":[\"Deep Purple\",\"The Beatles\",\"Cream\",\"AC/DC\",\"Led Zeppelin\"]},\"legend\":{\"title\":{\"text\":\"\"},\"tracegroupgap\":0},\"title\":{\"text\":\"Rock Band Timelines\"},\"height\":750,\"hovermode\":\"x unified\"},                        {\"responsive\": true}                    ).then(function(){\n",
              "                            \n",
              "var gd = document.getElementById('0834e9d4-1b8f-477c-82e0-38661c6662fd');\n",
              "var x = new MutationObserver(function (mutations, observer) {{\n",
              "        var display = window.getComputedStyle(gd).display;\n",
              "        if (!display || display === 'none') {{\n",
              "            console.log([gd, 'removed!']);\n",
              "            Plotly.purge(gd);\n",
              "            observer.disconnect();\n",
              "        }}\n",
              "}});\n",
              "\n",
              "// Listen for the removal of the full notebook cells\n",
              "var notebookContainer = gd.closest('#notebook-container');\n",
              "if (notebookContainer) {{\n",
              "    x.observe(notebookContainer, {childList: true});\n",
              "}}\n",
              "\n",
              "// Listen for the clearing of the current output cell\n",
              "var outputEl = gd.closest('.output');\n",
              "if (outputEl) {{\n",
              "    x.observe(outputEl, {childList: true});\n",
              "}}\n",
              "\n",
              "                        })                };                            </script>        </div>\n",
              "</body>\n",
              "</html>"
            ]
          },
          "metadata": {}
        }
      ]
    }
  ]
}